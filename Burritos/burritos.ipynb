{
 "cells": [
  {
   "cell_type": "code",
   "execution_count": 8,
   "id": "stone-celebrity",
   "metadata": {
    "scrolled": false
   },
   "outputs": [
    {
     "name": "stdout",
     "output_type": "stream",
     "text": [
      "Ресторан с самым дешёвым (2.99) буритто:\n",
      "               Location\n",
      "132  MXN on Washington\n",
      "\n",
      "Ресторан с самым дорогим (25.0) буритто:\n",
      "                           Location\n",
      "370  Roberto's Taco Shop Hillcrest\n",
      "\n",
      "Средняя цена буритто: 7.05\n",
      "\n",
      "Количество ресторанов с оценкой температуры выше 4:  121\n",
      "\n",
      "Количество ресторанов по локациям:\n",
      " Lucha Libre North Park     28\n",
      "Rigoberto's Taco Shop      24\n",
      "California Burritos        23\n",
      "Taco Villa                 19\n",
      "Taco stand                 12\n",
      "Los Tacos                  12\n",
      "Taco Stand                 12\n",
      "Los Primos Mexican Food    12\n",
      "El Zarape                   9\n",
      "Valentines Mexican Food     9\n",
      "Name: Location, dtype: int64\n"
     ]
    },
    {
     "data": {
      "image/png": "[encoded data removed]",
      "text/plain": [
       "<Figure size 500x500 with 1 Axes>"
      ]
     },
     "metadata": {
      "needs_background": "light"
     },
     "output_type": "display_data"
    },
    {
     "data": {
      "image/png": "[encoded data removed]",
      "text/plain": [
       "<Figure size 432x288 with 1 Axes>"
      ]
     },
     "metadata": {
      "needs_background": "light"
     },
     "output_type": "display_data"
    }
   ],
   "source": [
    "import numpy as np\n",
    "import pandas as pd\n",
    "import matplotlib.pyplot as plt\n",
    "\n",
    "# read csv\n",
    "data = pd.read_csv('burritos.csv')\n",
    "\n",
    "# replace 'nan'\n",
    "data.fillna({\n",
    "            'Address': '',\n",
    "            'Neighborhood': '',\n",
    "            'URL': '',\n",
    "            'Yelp': '0',\n",
    "            'Google': '0.0',\n",
    "            'Cost': data.Cost.mean() # replace 'nan' in ['Cost'] by value of mean() in ['Cost'] \n",
    "                            }, inplace = True)  # replace 'nan'\n",
    "# other way to replace 'nan'\n",
    "# data['Address'] = data['Address'].replace(np.nan, '')\n",
    "# data.head(10) # return the first 'n' rows -> default = 5\n",
    "# data.tail() # return the last 'n' rows -> default = 5\n",
    "\n",
    "# print ['Location'] with min and max ['Cost'] and mean\n",
    "cost_mean, cost_min, cost_max = data.Cost.mean(), data.Cost.min(), data.Cost.max()\n",
    "burrito_name_min = data.loc[data['Cost'] == cost_min, ['Location']]\n",
    "print (f'Ресторан с самым дешёвым ({cost_min}) буритто:\\n', burrito_name_min)\n",
    "burrito_name_max = data.loc[data['Cost'] == cost_max, ['Location']]\n",
    "print (f'\\nРесторан с самым дорогим ({cost_max}) буритто:\\n', burrito_name_max)\n",
    "print ('\\nСредняя цена буритто:', round(cost_mean, 2))\n",
    "\n",
    "# number of restaurants with a ['Temp'] above 4 \n",
    "print ('\\nКоличество ресторанов с оценкой температуры выше 4: ', sum(data.Temp > 4))\n",
    "\n",
    "# top-10 number of restaurants by location\n",
    "loc_name = data.Location.value_counts()\n",
    "print ('\\nКоличество ресторанов по локациям:\\n', loc_name[:10])\n",
    "\n",
    "# Boxplot for ['Cost']\n",
    "fig1 = plt.figure(figsize = (5, 5), dpi = 100)\n",
    "fig1.suptitle('Boxplot for COST', fontsize = 12, fontweight = 'bold')\n",
    "boxplot = data.boxplot(column=['Cost'], fontsize = 15, widths = 1.2)\n",
    "\n",
    "# Subplot for ['Cost']\n",
    "fig2, subplot_cost = plt.subplots()\n",
    "fig2.suptitle('Cost Subplot') \n",
    "subplot_cost.hist(data['Cost'])\n",
    "\n",
    "plt.show()"
   ]
  },
  {
   "cell_type": "code",
   "execution_count": null,
   "id": "after-contrast",
   "metadata": {},
   "outputs": [],
   "source": []
  }
 ],
 "metadata": {
  "kernelspec": {
   "display_name": "Python 3",
   "language": "python",
   "name": "python3"
  },
  "language_info": {
   "codemirror_mode": {
    "name": "ipython",
    "version": 3
   },
   "file_extension": ".py",
   "mimetype": "text/x-python",
   "name": "python",
   "nbconvert_exporter": "python",
   "pygments_lexer": "ipython3",
   "version": "3.7.6"
  },
  "varInspector": {
   "cols": {
    "lenName": 16,
    "lenType": 16,
    "lenVar": 40
   },
   "kernels_config": {
    "python": {
     "delete_cmd_postfix": "",
     "delete_cmd_prefix": "del ",
     "library": "var_list.py",
     "varRefreshCmd": "print(var_dic_list())"
    },
    "r": {
     "delete_cmd_postfix": ") ",
     "delete_cmd_prefix": "rm(",
     "library": "var_list.r",
     "varRefreshCmd": "cat(var_dic_list()) "
    }
   },
   "types_to_exclude": [
    "module",
    "function",
    "builtin_function_or_method",
    "instance",
    "_Feature"
   ],
   "window_display": false
  }
 },
 "nbformat": 4,
 "nbformat_minor": 5
}
